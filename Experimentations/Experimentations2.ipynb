{
 "cells": [
  {
   "cell_type": "code",
   "execution_count": 1,
   "id": "79500a8e-cb74-412b-a894-6d453e70233d",
   "metadata": {},
   "outputs": [],
   "source": [
    "# import libraries\n",
    "import numpy as np\n",
    "import pandas as pd\n",
    "import matplotlib.pyplot as plt\n",
    "import seaborn as sns"
   ]
  },
  {
   "cell_type": "code",
   "execution_count": 2,
   "id": "2c75433b-7dd1-456a-833f-9e3a3095341a",
   "metadata": {},
   "outputs": [],
   "source": [
    "df=pd.read_csv('dataset/aqi.csv')"
   ]
  },
  {
   "cell_type": "code",
   "execution_count": 3,
   "id": "bdb63a6c-906c-4082-84f0-d6a52d00f6d5",
   "metadata": {},
   "outputs": [
    {
     "data": {
      "text/html": [
       "<div>\n",
       "<style scoped>\n",
       "    .dataframe tbody tr th:only-of-type {\n",
       "        vertical-align: middle;\n",
       "    }\n",
       "\n",
       "    .dataframe tbody tr th {\n",
       "        vertical-align: top;\n",
       "    }\n",
       "\n",
       "    .dataframe thead th {\n",
       "        text-align: right;\n",
       "    }\n",
       "</style>\n",
       "<table border=\"1\" class=\"dataframe\">\n",
       "  <thead>\n",
       "    <tr style=\"text-align: right;\">\n",
       "      <th></th>\n",
       "      <th>date</th>\n",
       "      <th>state</th>\n",
       "      <th>area</th>\n",
       "      <th>number_of_monitoring_stations</th>\n",
       "      <th>prominent_pollutants</th>\n",
       "      <th>aqi_value</th>\n",
       "      <th>air_quality_status</th>\n",
       "      <th>unit</th>\n",
       "      <th>note</th>\n",
       "    </tr>\n",
       "  </thead>\n",
       "  <tbody>\n",
       "    <tr>\n",
       "      <th>0</th>\n",
       "      <td>30-04-2025</td>\n",
       "      <td>Maharashtra</td>\n",
       "      <td>Amravati</td>\n",
       "      <td>2</td>\n",
       "      <td>PM10</td>\n",
       "      <td>78</td>\n",
       "      <td>Satisfactory</td>\n",
       "      <td>number_of_monitoring_stations in Absolute Numb...</td>\n",
       "      <td>NaN</td>\n",
       "    </tr>\n",
       "    <tr>\n",
       "      <th>1</th>\n",
       "      <td>30-04-2025</td>\n",
       "      <td>Bihar</td>\n",
       "      <td>Purnia</td>\n",
       "      <td>1</td>\n",
       "      <td>CO</td>\n",
       "      <td>56</td>\n",
       "      <td>Satisfactory</td>\n",
       "      <td>number_of_monitoring_stations in Absolute Numb...</td>\n",
       "      <td>NaN</td>\n",
       "    </tr>\n",
       "    <tr>\n",
       "      <th>2</th>\n",
       "      <td>30-04-2025</td>\n",
       "      <td>Madhya Pradesh</td>\n",
       "      <td>Katni</td>\n",
       "      <td>1</td>\n",
       "      <td>O3</td>\n",
       "      <td>98</td>\n",
       "      <td>Satisfactory</td>\n",
       "      <td>number_of_monitoring_stations in Absolute Numb...</td>\n",
       "      <td>NaN</td>\n",
       "    </tr>\n",
       "    <tr>\n",
       "      <th>3</th>\n",
       "      <td>30-04-2025</td>\n",
       "      <td>Chhattisgarh</td>\n",
       "      <td>Tumidih</td>\n",
       "      <td>1</td>\n",
       "      <td>PM10</td>\n",
       "      <td>103</td>\n",
       "      <td>Moderate</td>\n",
       "      <td>number_of_monitoring_stations in Absolute Numb...</td>\n",
       "      <td>NaN</td>\n",
       "    </tr>\n",
       "    <tr>\n",
       "      <th>4</th>\n",
       "      <td>30-04-2025</td>\n",
       "      <td>Assam</td>\n",
       "      <td>Byrnihat</td>\n",
       "      <td>1</td>\n",
       "      <td>PM2.5</td>\n",
       "      <td>61</td>\n",
       "      <td>Satisfactory</td>\n",
       "      <td>number_of_monitoring_stations in Absolute Numb...</td>\n",
       "      <td>NaN</td>\n",
       "    </tr>\n",
       "  </tbody>\n",
       "</table>\n",
       "</div>"
      ],
      "text/plain": [
       "         date           state      area  number_of_monitoring_stations  \\\n",
       "0  30-04-2025     Maharashtra  Amravati                              2   \n",
       "1  30-04-2025           Bihar    Purnia                              1   \n",
       "2  30-04-2025  Madhya Pradesh     Katni                              1   \n",
       "3  30-04-2025    Chhattisgarh   Tumidih                              1   \n",
       "4  30-04-2025           Assam  Byrnihat                              1   \n",
       "\n",
       "  prominent_pollutants  aqi_value air_quality_status  \\\n",
       "0                 PM10         78       Satisfactory   \n",
       "1                   CO         56       Satisfactory   \n",
       "2                   O3         98       Satisfactory   \n",
       "3                 PM10        103           Moderate   \n",
       "4                PM2.5         61       Satisfactory   \n",
       "\n",
       "                                                unit  note  \n",
       "0  number_of_monitoring_stations in Absolute Numb...   NaN  \n",
       "1  number_of_monitoring_stations in Absolute Numb...   NaN  \n",
       "2  number_of_monitoring_stations in Absolute Numb...   NaN  \n",
       "3  number_of_monitoring_stations in Absolute Numb...   NaN  \n",
       "4  number_of_monitoring_stations in Absolute Numb...   NaN  "
      ]
     },
     "execution_count": 3,
     "metadata": {},
     "output_type": "execute_result"
    }
   ],
   "source": [
    "df.head()"
   ]
  },
  {
   "cell_type": "code",
   "execution_count": 4,
   "id": "2fd2bd37-3473-4bd6-86f2-1494690584d8",
   "metadata": {},
   "outputs": [],
   "source": [
    "# Remove the note column\n",
    "df.drop('note',axis=1,inplace=True)"
   ]
  },
  {
   "cell_type": "code",
   "execution_count": 5,
   "id": "0e5ba670-dee5-442d-95f0-9fb93c5ecfce",
   "metadata": {},
   "outputs": [],
   "source": [
    "veh=pd.read_csv('dataset/vahan.csv')"
   ]
  },
  {
   "cell_type": "code",
   "execution_count": 6,
   "id": "6d47d437-848c-451f-94b2-c4e52a2fb2c8",
   "metadata": {},
   "outputs": [
    {
     "data": {
      "text/html": [
       "<div>\n",
       "<style scoped>\n",
       "    .dataframe tbody tr th:only-of-type {\n",
       "        vertical-align: middle;\n",
       "    }\n",
       "\n",
       "    .dataframe tbody tr th {\n",
       "        vertical-align: top;\n",
       "    }\n",
       "\n",
       "    .dataframe thead th {\n",
       "        text-align: right;\n",
       "    }\n",
       "</style>\n",
       "<table border=\"1\" class=\"dataframe\">\n",
       "  <thead>\n",
       "    <tr style=\"text-align: right;\">\n",
       "      <th></th>\n",
       "      <th>year</th>\n",
       "      <th>month</th>\n",
       "      <th>state</th>\n",
       "      <th>rto</th>\n",
       "      <th>vehicle_class</th>\n",
       "      <th>fuel</th>\n",
       "      <th>value</th>\n",
       "      <th>unit</th>\n",
       "      <th>note</th>\n",
       "    </tr>\n",
       "  </thead>\n",
       "  <tbody>\n",
       "    <tr>\n",
       "      <th>0</th>\n",
       "      <td>2025</td>\n",
       "      <td>April</td>\n",
       "      <td>Andaman and Nicobar Islands</td>\n",
       "      <td>All Vahan Running Office</td>\n",
       "      <td>BUS</td>\n",
       "      <td>DIESEL</td>\n",
       "      <td>2</td>\n",
       "      <td>value in Absolute Number</td>\n",
       "      <td>NaN</td>\n",
       "    </tr>\n",
       "    <tr>\n",
       "      <th>1</th>\n",
       "      <td>2025</td>\n",
       "      <td>April</td>\n",
       "      <td>Andaman and Nicobar Islands</td>\n",
       "      <td>All Vahan Running Office</td>\n",
       "      <td>GOODS CARRIER</td>\n",
       "      <td>DIESEL</td>\n",
       "      <td>23</td>\n",
       "      <td>value in Absolute Number</td>\n",
       "      <td>NaN</td>\n",
       "    </tr>\n",
       "    <tr>\n",
       "      <th>2</th>\n",
       "      <td>2025</td>\n",
       "      <td>April</td>\n",
       "      <td>Andaman and Nicobar Islands</td>\n",
       "      <td>All Vahan Running Office</td>\n",
       "      <td>GOODS CARRIER</td>\n",
       "      <td>PETROL</td>\n",
       "      <td>1</td>\n",
       "      <td>value in Absolute Number</td>\n",
       "      <td>NaN</td>\n",
       "    </tr>\n",
       "    <tr>\n",
       "      <th>3</th>\n",
       "      <td>2025</td>\n",
       "      <td>April</td>\n",
       "      <td>Andaman and Nicobar Islands</td>\n",
       "      <td>All Vahan Running Office</td>\n",
       "      <td>M-CYCLE/SCOOTER</td>\n",
       "      <td>ELECTRIC(BOV)</td>\n",
       "      <td>1</td>\n",
       "      <td>value in Absolute Number</td>\n",
       "      <td>NaN</td>\n",
       "    </tr>\n",
       "    <tr>\n",
       "      <th>4</th>\n",
       "      <td>2025</td>\n",
       "      <td>April</td>\n",
       "      <td>Andaman and Nicobar Islands</td>\n",
       "      <td>All Vahan Running Office</td>\n",
       "      <td>M-CYCLE/SCOOTER</td>\n",
       "      <td>PETROL</td>\n",
       "      <td>387</td>\n",
       "      <td>value in Absolute Number</td>\n",
       "      <td>NaN</td>\n",
       "    </tr>\n",
       "  </tbody>\n",
       "</table>\n",
       "</div>"
      ],
      "text/plain": [
       "   year  month                        state                       rto  \\\n",
       "0  2025  April  Andaman and Nicobar Islands  All Vahan Running Office   \n",
       "1  2025  April  Andaman and Nicobar Islands  All Vahan Running Office   \n",
       "2  2025  April  Andaman and Nicobar Islands  All Vahan Running Office   \n",
       "3  2025  April  Andaman and Nicobar Islands  All Vahan Running Office   \n",
       "4  2025  April  Andaman and Nicobar Islands  All Vahan Running Office   \n",
       "\n",
       "     vehicle_class           fuel  value                      unit  note  \n",
       "0              BUS         DIESEL      2  value in Absolute Number   NaN  \n",
       "1    GOODS CARRIER         DIESEL     23  value in Absolute Number   NaN  \n",
       "2    GOODS CARRIER         PETROL      1  value in Absolute Number   NaN  \n",
       "3  M-CYCLE/SCOOTER  ELECTRIC(BOV)      1  value in Absolute Number   NaN  \n",
       "4  M-CYCLE/SCOOTER         PETROL    387  value in Absolute Number   NaN  "
      ]
     },
     "execution_count": 6,
     "metadata": {},
     "output_type": "execute_result"
    }
   ],
   "source": [
    "veh.head()"
   ]
  },
  {
   "cell_type": "code",
   "execution_count": 7,
   "id": "3019acda-0619-4f01-885e-3a652c394baa",
   "metadata": {},
   "outputs": [],
   "source": [
    "idsp=pd.read_csv('dataset/idsp.csv',encoding='latin')"
   ]
  },
  {
   "cell_type": "code",
   "execution_count": 8,
   "id": "e68c7fe3-abac-4422-8e6f-f934805cce21",
   "metadata": {},
   "outputs": [],
   "source": [
    "def removing_outliers_from_aqi(text):\n",
    "    q1=df['aqi_value'].quantile(0.25)\n",
    "    q3=df['aqi_value'].quantile(0.75)\n",
    "    iqr=q3-q1\n",
    "    upper=q3+1.5*iqr\n",
    "    lower=q1-1.5*iqr\n",
    "    if text > upper:\n",
    "        return upper\n",
    "    elif text < lower:\n",
    "        return lower\n",
    "    else:\n",
    "        return text"
   ]
  },
  {
   "cell_type": "code",
   "execution_count": 9,
   "id": "f6cb2321-cd18-44c8-8b68-ed15145d6205",
   "metadata": {},
   "outputs": [],
   "source": [
    "df['aqi_value']=df['aqi_value'].apply(removing_outliers_from_aqi)"
   ]
  },
  {
   "cell_type": "code",
   "execution_count": 10,
   "id": "1a3fd35f-d4ef-4321-819f-8f189f8d2faa",
   "metadata": {},
   "outputs": [
    {
     "data": {
      "text/html": [
       "<div>\n",
       "<style scoped>\n",
       "    .dataframe tbody tr th:only-of-type {\n",
       "        vertical-align: middle;\n",
       "    }\n",
       "\n",
       "    .dataframe tbody tr th {\n",
       "        vertical-align: top;\n",
       "    }\n",
       "\n",
       "    .dataframe thead th {\n",
       "        text-align: right;\n",
       "    }\n",
       "</style>\n",
       "<table border=\"1\" class=\"dataframe\">\n",
       "  <thead>\n",
       "    <tr style=\"text-align: right;\">\n",
       "      <th></th>\n",
       "      <th>date</th>\n",
       "      <th>state</th>\n",
       "      <th>area</th>\n",
       "      <th>number_of_monitoring_stations</th>\n",
       "      <th>prominent_pollutants</th>\n",
       "      <th>aqi_value</th>\n",
       "      <th>air_quality_status</th>\n",
       "      <th>unit</th>\n",
       "    </tr>\n",
       "  </thead>\n",
       "  <tbody>\n",
       "    <tr>\n",
       "      <th>0</th>\n",
       "      <td>30-04-2025</td>\n",
       "      <td>Maharashtra</td>\n",
       "      <td>Amravati</td>\n",
       "      <td>2</td>\n",
       "      <td>PM10</td>\n",
       "      <td>78.0</td>\n",
       "      <td>Satisfactory</td>\n",
       "      <td>number_of_monitoring_stations in Absolute Numb...</td>\n",
       "    </tr>\n",
       "    <tr>\n",
       "      <th>1</th>\n",
       "      <td>30-04-2025</td>\n",
       "      <td>Bihar</td>\n",
       "      <td>Purnia</td>\n",
       "      <td>1</td>\n",
       "      <td>CO</td>\n",
       "      <td>56.0</td>\n",
       "      <td>Satisfactory</td>\n",
       "      <td>number_of_monitoring_stations in Absolute Numb...</td>\n",
       "    </tr>\n",
       "    <tr>\n",
       "      <th>2</th>\n",
       "      <td>30-04-2025</td>\n",
       "      <td>Madhya Pradesh</td>\n",
       "      <td>Katni</td>\n",
       "      <td>1</td>\n",
       "      <td>O3</td>\n",
       "      <td>98.0</td>\n",
       "      <td>Satisfactory</td>\n",
       "      <td>number_of_monitoring_stations in Absolute Numb...</td>\n",
       "    </tr>\n",
       "    <tr>\n",
       "      <th>3</th>\n",
       "      <td>30-04-2025</td>\n",
       "      <td>Chhattisgarh</td>\n",
       "      <td>Tumidih</td>\n",
       "      <td>1</td>\n",
       "      <td>PM10</td>\n",
       "      <td>103.0</td>\n",
       "      <td>Moderate</td>\n",
       "      <td>number_of_monitoring_stations in Absolute Numb...</td>\n",
       "    </tr>\n",
       "    <tr>\n",
       "      <th>4</th>\n",
       "      <td>30-04-2025</td>\n",
       "      <td>Assam</td>\n",
       "      <td>Byrnihat</td>\n",
       "      <td>1</td>\n",
       "      <td>PM2.5</td>\n",
       "      <td>61.0</td>\n",
       "      <td>Satisfactory</td>\n",
       "      <td>number_of_monitoring_stations in Absolute Numb...</td>\n",
       "    </tr>\n",
       "  </tbody>\n",
       "</table>\n",
       "</div>"
      ],
      "text/plain": [
       "         date           state      area  number_of_monitoring_stations  \\\n",
       "0  30-04-2025     Maharashtra  Amravati                              2   \n",
       "1  30-04-2025           Bihar    Purnia                              1   \n",
       "2  30-04-2025  Madhya Pradesh     Katni                              1   \n",
       "3  30-04-2025    Chhattisgarh   Tumidih                              1   \n",
       "4  30-04-2025           Assam  Byrnihat                              1   \n",
       "\n",
       "  prominent_pollutants  aqi_value air_quality_status  \\\n",
       "0                 PM10       78.0       Satisfactory   \n",
       "1                   CO       56.0       Satisfactory   \n",
       "2                   O3       98.0       Satisfactory   \n",
       "3                 PM10      103.0           Moderate   \n",
       "4                PM2.5       61.0       Satisfactory   \n",
       "\n",
       "                                                unit  \n",
       "0  number_of_monitoring_stations in Absolute Numb...  \n",
       "1  number_of_monitoring_stations in Absolute Numb...  \n",
       "2  number_of_monitoring_stations in Absolute Numb...  \n",
       "3  number_of_monitoring_stations in Absolute Numb...  \n",
       "4  number_of_monitoring_stations in Absolute Numb...  "
      ]
     },
     "execution_count": 10,
     "metadata": {},
     "output_type": "execute_result"
    }
   ],
   "source": [
    "df.head()"
   ]
  },
  {
   "cell_type": "code",
   "execution_count": 12,
   "id": "9fdfd7cd-eb5d-449d-ab11-b06a7608fbec",
   "metadata": {},
   "outputs": [
    {
     "data": {
      "text/plain": [
       "<Axes: ylabel='aqi_value'>"
      ]
     },
     "execution_count": 12,
     "metadata": {},
     "output_type": "execute_result"
    },
    {
     "data": {
      "image/png": "[encoded data removed]",
      "text/plain": [
       "<Figure size 640x480 with 1 Axes>"
      ]
     },
     "metadata": {},
     "output_type": "display_data"
    }
   ],
   "source": [
    "sns.boxplot(df['aqi_value'])"
   ]
  },
  {
   "cell_type": "code",
   "execution_count": 13,
   "id": "5b5ab4e8-681b-426e-b652-f6a569703ce6",
   "metadata": {},
   "outputs": [
    {
     "data": {
      "text/plain": [
       "<Axes: ylabel='number_of_monitoring_stations'>"
      ]
     },
     "execution_count": 13,
     "metadata": {},
     "output_type": "execute_result"
    },
    {
     "data": {
      "image/png": "[encoded data removed]",
      "text/plain": [
       "<Figure size 640x480 with 1 Axes>"
      ]
     },
     "metadata": {},
     "output_type": "display_data"
    }
   ],
   "source": [
    "sns.boxplot(df['number_of_monitoring_stations'])"
   ]
  },
  {
   "cell_type": "code",
   "execution_count": 14,
   "id": "782e9f2d-544d-4202-b000-818fdf4b0d73",
   "metadata": {},
   "outputs": [
    {
     "data": {
      "text/html": [
       "<div>\n",
       "<style scoped>\n",
       "    .dataframe tbody tr th:only-of-type {\n",
       "        vertical-align: middle;\n",
       "    }\n",
       "\n",
       "    .dataframe tbody tr th {\n",
       "        vertical-align: top;\n",
       "    }\n",
       "\n",
       "    .dataframe thead th {\n",
       "        text-align: right;\n",
       "    }\n",
       "</style>\n",
       "<table border=\"1\" class=\"dataframe\">\n",
       "  <thead>\n",
       "    <tr style=\"text-align: right;\">\n",
       "      <th></th>\n",
       "      <th>year</th>\n",
       "      <th>month</th>\n",
       "      <th>state</th>\n",
       "      <th>rto</th>\n",
       "      <th>vehicle_class</th>\n",
       "      <th>fuel</th>\n",
       "      <th>value</th>\n",
       "      <th>unit</th>\n",
       "      <th>note</th>\n",
       "    </tr>\n",
       "  </thead>\n",
       "  <tbody>\n",
       "    <tr>\n",
       "      <th>0</th>\n",
       "      <td>2025</td>\n",
       "      <td>April</td>\n",
       "      <td>Andaman and Nicobar Islands</td>\n",
       "      <td>All Vahan Running Office</td>\n",
       "      <td>BUS</td>\n",
       "      <td>DIESEL</td>\n",
       "      <td>2</td>\n",
       "      <td>value in Absolute Number</td>\n",
       "      <td>NaN</td>\n",
       "    </tr>\n",
       "    <tr>\n",
       "      <th>1</th>\n",
       "      <td>2025</td>\n",
       "      <td>April</td>\n",
       "      <td>Andaman and Nicobar Islands</td>\n",
       "      <td>All Vahan Running Office</td>\n",
       "      <td>GOODS CARRIER</td>\n",
       "      <td>DIESEL</td>\n",
       "      <td>23</td>\n",
       "      <td>value in Absolute Number</td>\n",
       "      <td>NaN</td>\n",
       "    </tr>\n",
       "    <tr>\n",
       "      <th>2</th>\n",
       "      <td>2025</td>\n",
       "      <td>April</td>\n",
       "      <td>Andaman and Nicobar Islands</td>\n",
       "      <td>All Vahan Running Office</td>\n",
       "      <td>GOODS CARRIER</td>\n",
       "      <td>PETROL</td>\n",
       "      <td>1</td>\n",
       "      <td>value in Absolute Number</td>\n",
       "      <td>NaN</td>\n",
       "    </tr>\n",
       "    <tr>\n",
       "      <th>3</th>\n",
       "      <td>2025</td>\n",
       "      <td>April</td>\n",
       "      <td>Andaman and Nicobar Islands</td>\n",
       "      <td>All Vahan Running Office</td>\n",
       "      <td>M-CYCLE/SCOOTER</td>\n",
       "      <td>ELECTRIC(BOV)</td>\n",
       "      <td>1</td>\n",
       "      <td>value in Absolute Number</td>\n",
       "      <td>NaN</td>\n",
       "    </tr>\n",
       "    <tr>\n",
       "      <th>4</th>\n",
       "      <td>2025</td>\n",
       "      <td>April</td>\n",
       "      <td>Andaman and Nicobar Islands</td>\n",
       "      <td>All Vahan Running Office</td>\n",
       "      <td>M-CYCLE/SCOOTER</td>\n",
       "      <td>PETROL</td>\n",
       "      <td>387</td>\n",
       "      <td>value in Absolute Number</td>\n",
       "      <td>NaN</td>\n",
       "    </tr>\n",
       "  </tbody>\n",
       "</table>\n",
       "</div>"
      ],
      "text/plain": [
       "   year  month                        state                       rto  \\\n",
       "0  2025  April  Andaman and Nicobar Islands  All Vahan Running Office   \n",
       "1  2025  April  Andaman and Nicobar Islands  All Vahan Running Office   \n",
       "2  2025  April  Andaman and Nicobar Islands  All Vahan Running Office   \n",
       "3  2025  April  Andaman and Nicobar Islands  All Vahan Running Office   \n",
       "4  2025  April  Andaman and Nicobar Islands  All Vahan Running Office   \n",
       "\n",
       "     vehicle_class           fuel  value                      unit  note  \n",
       "0              BUS         DIESEL      2  value in Absolute Number   NaN  \n",
       "1    GOODS CARRIER         DIESEL     23  value in Absolute Number   NaN  \n",
       "2    GOODS CARRIER         PETROL      1  value in Absolute Number   NaN  \n",
       "3  M-CYCLE/SCOOTER  ELECTRIC(BOV)      1  value in Absolute Number   NaN  \n",
       "4  M-CYCLE/SCOOTER         PETROL    387  value in Absolute Number   NaN  "
      ]
     },
     "execution_count": 14,
     "metadata": {},
     "output_type": "execute_result"
    }
   ],
   "source": [
    "veh.head()"
   ]
  },
  {
   "cell_type": "code",
   "execution_count": 15,
   "id": "5ff5fa00-081e-48ab-b390-d26e6d6f87cf",
   "metadata": {},
   "outputs": [
    {
     "data": {
      "text/plain": [
       "value\n",
       "1        9879\n",
       "2        4755\n",
       "3        3184\n",
       "4        2214\n",
       "5        1756\n",
       "         ... \n",
       "5054        1\n",
       "48139       1\n",
       "7574        1\n",
       "2978        1\n",
       "6928        1\n",
       "Name: count, Length: 5391, dtype: int64"
      ]
     },
     "execution_count": 15,
     "metadata": {},
     "output_type": "execute_result"
    }
   ],
   "source": [
    "veh['value'].value_counts()"
   ]
  },
  {
   "cell_type": "code",
   "execution_count": 17,
   "id": "427bdf50-9747-481f-be8f-2d353a4ba698",
   "metadata": {},
   "outputs": [
    {
     "name": "stderr",
     "output_type": "stream",
     "text": [
      "C:\\Users\\aky\\AppData\\Local\\Temp\\ipykernel_6940\\1213281828.py:1: UserWarning: Parsing dates in %d-%m-%Y format when dayfirst=False (the default) was specified. Pass `dayfirst=True` or specify a format to silence this warning.\n",
      "  df['date']=pd.to_datetime(df['date'])\n"
     ]
    }
   ],
   "source": [
    "df['date']=pd.to_datetime(df['date'])"
   ]
  },
  {
   "cell_type": "code",
   "execution_count": 18,
   "id": "36cab7f8-135b-441f-9574-2ba5775d9f8b",
   "metadata": {},
   "outputs": [],
   "source": [
    "df['Month']=df['date'].dt.month_name()"
   ]
  },
  {
   "cell_type": "code",
   "execution_count": 19,
   "id": "fdb4af85-0976-424c-b847-ad1e0e2eedab",
   "metadata": {},
   "outputs": [],
   "source": [
    "df['Day']=df['date'].dt.day_name().apply(lambda x: 'Weekend' if x in ['Sunday','Saturday'] else 'Weekday')"
   ]
  },
  {
   "cell_type": "code",
   "execution_count": 22,
   "id": "dcb50677-16e2-4cc5-90b5-c669abea1d2c",
   "metadata": {},
   "outputs": [],
   "source": [
    "idsp=pd.read_csv('dataset/idsp.csv',encoding='latin')"
   ]
  },
  {
   "cell_type": "code",
   "execution_count": 23,
   "id": "88e6930f-99de-4e3a-b609-954458daa2c9",
   "metadata": {},
   "outputs": [
    {
     "data": {
      "text/html": [
       "<div>\n",
       "<style scoped>\n",
       "    .dataframe tbody tr th:only-of-type {\n",
       "        vertical-align: middle;\n",
       "    }\n",
       "\n",
       "    .dataframe tbody tr th {\n",
       "        vertical-align: top;\n",
       "    }\n",
       "\n",
       "    .dataframe thead th {\n",
       "        text-align: right;\n",
       "    }\n",
       "</style>\n",
       "<table border=\"1\" class=\"dataframe\">\n",
       "  <thead>\n",
       "    <tr style=\"text-align: right;\">\n",
       "      <th></th>\n",
       "      <th>year</th>\n",
       "      <th>week</th>\n",
       "      <th>outbreak_starting_date</th>\n",
       "      <th>reporting_date</th>\n",
       "      <th>state</th>\n",
       "      <th>district</th>\n",
       "      <th>disease_illness_name</th>\n",
       "      <th>status</th>\n",
       "      <th>cases</th>\n",
       "      <th>deaths</th>\n",
       "      <th>unit</th>\n",
       "      <th>note</th>\n",
       "    </tr>\n",
       "  </thead>\n",
       "  <tbody>\n",
       "    <tr>\n",
       "      <th>0</th>\n",
       "      <td>2025</td>\n",
       "      <td>16</td>\n",
       "      <td>15-04-2025</td>\n",
       "      <td>15-04-2025</td>\n",
       "      <td>Andhra Pradesh</td>\n",
       "      <td>Kakinada</td>\n",
       "      <td>Acute Diarrheal Disease</td>\n",
       "      <td>Reported</td>\n",
       "      <td>22</td>\n",
       "      <td>0</td>\n",
       "      <td>cases in absolute number, deaths in absolute n...</td>\n",
       "      <td>NaN</td>\n",
       "    </tr>\n",
       "    <tr>\n",
       "      <th>1</th>\n",
       "      <td>2025</td>\n",
       "      <td>16</td>\n",
       "      <td>15-04-2025</td>\n",
       "      <td>17-04-2025</td>\n",
       "      <td>Assam</td>\n",
       "      <td>Biswanath</td>\n",
       "      <td>Chickenpox</td>\n",
       "      <td>Reported</td>\n",
       "      <td>1</td>\n",
       "      <td>1</td>\n",
       "      <td>cases in absolute number, deaths in absolute n...</td>\n",
       "      <td>NaN</td>\n",
       "    </tr>\n",
       "    <tr>\n",
       "      <th>2</th>\n",
       "      <td>2025</td>\n",
       "      <td>16</td>\n",
       "      <td>19-04-2025</td>\n",
       "      <td>20-04-2025</td>\n",
       "      <td>Assam</td>\n",
       "      <td>Dhemaji</td>\n",
       "      <td>Food Poisoning</td>\n",
       "      <td>Reported</td>\n",
       "      <td>16</td>\n",
       "      <td>0</td>\n",
       "      <td>cases in absolute number, deaths in absolute n...</td>\n",
       "      <td>NaN</td>\n",
       "    </tr>\n",
       "    <tr>\n",
       "      <th>3</th>\n",
       "      <td>2025</td>\n",
       "      <td>16</td>\n",
       "      <td>19-04-2025</td>\n",
       "      <td>19-04-2025</td>\n",
       "      <td>Bihar</td>\n",
       "      <td>Gopalganj</td>\n",
       "      <td>Fever with Rash</td>\n",
       "      <td>Reported</td>\n",
       "      <td>5</td>\n",
       "      <td>0</td>\n",
       "      <td>cases in absolute number, deaths in absolute n...</td>\n",
       "      <td>NaN</td>\n",
       "    </tr>\n",
       "    <tr>\n",
       "      <th>4</th>\n",
       "      <td>2025</td>\n",
       "      <td>16</td>\n",
       "      <td>12-04-2025</td>\n",
       "      <td>15-04-2025</td>\n",
       "      <td>Bihar</td>\n",
       "      <td>Madhubani</td>\n",
       "      <td>Acute Diarrheal Disease</td>\n",
       "      <td>Reported</td>\n",
       "      <td>21</td>\n",
       "      <td>0</td>\n",
       "      <td>cases in absolute number, deaths in absolute n...</td>\n",
       "      <td>NaN</td>\n",
       "    </tr>\n",
       "  </tbody>\n",
       "</table>\n",
       "</div>"
      ],
      "text/plain": [
       "   year  week outbreak_starting_date reporting_date           state  \\\n",
       "0  2025    16             15-04-2025     15-04-2025  Andhra Pradesh   \n",
       "1  2025    16             15-04-2025     17-04-2025           Assam   \n",
       "2  2025    16             19-04-2025     20-04-2025           Assam   \n",
       "3  2025    16             19-04-2025     19-04-2025           Bihar   \n",
       "4  2025    16             12-04-2025     15-04-2025           Bihar   \n",
       "\n",
       "    district     disease_illness_name    status  cases  deaths  \\\n",
       "0   Kakinada  Acute Diarrheal Disease  Reported     22       0   \n",
       "1  Biswanath               Chickenpox  Reported      1       1   \n",
       "2    Dhemaji           Food Poisoning  Reported     16       0   \n",
       "3  Gopalganj          Fever with Rash  Reported      5       0   \n",
       "4  Madhubani  Acute Diarrheal Disease  Reported     21       0   \n",
       "\n",
       "                                                unit note  \n",
       "0  cases in absolute number, deaths in absolute n...  NaN  \n",
       "1  cases in absolute number, deaths in absolute n...  NaN  \n",
       "2  cases in absolute number, deaths in absolute n...  NaN  \n",
       "3  cases in absolute number, deaths in absolute n...  NaN  \n",
       "4  cases in absolute number, deaths in absolute n...  NaN  "
      ]
     },
     "execution_count": 23,
     "metadata": {},
     "output_type": "execute_result"
    }
   ],
   "source": [
    "idsp.head()"
   ]
  },
  {
   "cell_type": "code",
   "execution_count": 24,
   "id": "139d5b69-d876-414a-907e-d4fdaf3b5832",
   "metadata": {},
   "outputs": [
    {
     "data": {
      "text/plain": [
       "week\n",
       "30    208\n",
       "28    177\n",
       "34    173\n",
       "42    162\n",
       "22    162\n",
       "35    161\n",
       "32    161\n",
       "26    160\n",
       "33    155\n",
       "29    153\n",
       "31    152\n",
       "25    145\n",
       "16    143\n",
       "37    139\n",
       "38    138\n",
       "27    136\n",
       "11    136\n",
       "36    134\n",
       "21    133\n",
       "23    130\n",
       "24    130\n",
       "15    129\n",
       "9     128\n",
       "8     128\n",
       "18    126\n",
       "5     126\n",
       "20    121\n",
       "17    121\n",
       "47    118\n",
       "12    118\n",
       "40    115\n",
       "19    114\n",
       "7     114\n",
       "14    112\n",
       "13    112\n",
       "6     108\n",
       "10    108\n",
       "39    108\n",
       "45    103\n",
       "44    101\n",
       "41    101\n",
       "43    100\n",
       "46    100\n",
       "51     99\n",
       "48     95\n",
       "4      93\n",
       "50     91\n",
       "1      86\n",
       "2      81\n",
       "52     80\n",
       "3      79\n",
       "49     71\n",
       "Name: count, dtype: int64"
      ]
     },
     "execution_count": 24,
     "metadata": {},
     "output_type": "execute_result"
    }
   ],
   "source": [
    "idsp['week'].value_counts()"
   ]
  },
  {
   "cell_type": "code",
   "execution_count": 25,
   "id": "2bae5acb-81a3-4789-8765-9cbde9cd34c6",
   "metadata": {},
   "outputs": [
    {
     "data": {
      "text/plain": [
       "cases\n",
       "1      344\n",
       "5      277\n",
       "10     230\n",
       "6      228\n",
       "12     219\n",
       "      ... \n",
       "265      1\n",
       "496      1\n",
       "251      1\n",
       "186      1\n",
       "253      1\n",
       "Name: count, Length: 281, dtype: int64"
      ]
     },
     "execution_count": 25,
     "metadata": {},
     "output_type": "execute_result"
    }
   ],
   "source": [
    "idsp['cases'].value_counts()"
   ]
  },
  {
   "cell_type": "code",
   "execution_count": 27,
   "id": "914c1d05-8343-4fd0-9050-8327f6574687",
   "metadata": {},
   "outputs": [],
   "source": [
    "df.to_csv('dataset/df2.csv',index=False)"
   ]
  },
  {
   "cell_type": "code",
   "execution_count": null,
   "id": "4df2d4b4-3815-4935-b4f6-0356eb4492de",
   "metadata": {},
   "outputs": [],
   "source": []
  }
 ],
 "metadata": {
  "kernelspec": {
   "display_name": "Python 3 (ipykernel)",
   "language": "python",
   "name": "python3"
  },
  "language_info": {
   "codemirror_mode": {
    "name": "ipython",
    "version": 3
   },
   "file_extension": ".py",
   "mimetype": "text/x-python",
   "name": "python",
   "nbconvert_exporter": "python",
   "pygments_lexer": "ipython3",
   "version": "3.12.7"
  }
 },
 "nbformat": 4,
 "nbformat_minor": 5
}
